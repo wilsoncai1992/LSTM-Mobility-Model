{
 "cells": [
  {
   "cell_type": "code",
   "execution_count": 1,
   "metadata": {
    "collapsed": false
   },
   "outputs": [],
   "source": [
    "import os\n",
    "import sys\n",
    "sys.path.append(os.path.dirname(os.path.realpath('../src/models/lstm_mixture_density_model.py')))\n",
    "import numpy as np\n",
    "import tensorflow as tf\n",
    "import warnings\n",
    "warnings.filterwarnings('ignore')\n",
    "\n",
    "# load code\n",
    "from lstm_mixture_density_model import tf_lstm_mixture_density_model"
   ]
  },
  {
   "cell_type": "markdown",
   "metadata": {},
   "source": [
    "# Build lstm model\n"
   ]
  },
  {
   "cell_type": "code",
   "execution_count": 2,
   "metadata": {
    "collapsed": false
   },
   "outputs": [],
   "source": [
    "model_name = 'my_lstm_model'\n",
    "\n",
    "input_length = 5\n",
    "n_lstm_units = 32\n",
    "n_layers = 1\n",
    "pred_x_dim = 4\n",
    "obs_x_dim = 5\n",
    "n_mixtures = 3\n",
    "dropout_prob = 0.1\n",
    "y_dim = 8\n",
    "batch_size=1\n",
    "learning_rate = 0.01\n",
    "start_time_sd = 0.01\n",
    "\n",
    "with tf.device('/cpu:0'):\n",
    "    lstm_DM = tf_lstm_mixture_density_model(name=model_name,\n",
    "                                            input_length=input_length, # length of h_t\n",
    "                                            n_lstm_units=n_lstm_units, # no. of hidden units\n",
    "                                            n_layers=n_layers, # layer no.\n",
    "                                            pred_x_dim=pred_x_dim,\n",
    "                                            obs_x_dim=obs_x_dim,\n",
    "                                            y_dim=y_dim,\n",
    "                                            batch_size=batch_size,\n",
    "                                            n_loc_mixtures=n_mixtures,\n",
    "                                            dropout_prob = dropout_prob,\n",
    "                                            learning_rate=learning_rate,\n",
    "                                            start_time_sd=start_time_sd)\n"
   ]
  },
  {
   "cell_type": "markdown",
   "metadata": {},
   "source": [
    "# Load sample data\n",
    "\n",
    "### Note: the data is artificially made for demonstration purpose only."
   ]
  },
  {
   "cell_type": "code",
   "execution_count": 3,
   "metadata": {
    "collapsed": false
   },
   "outputs": [],
   "source": [
    "# We made up 5 activities with location, starting time, duration, and activity types\n",
    "# The 5 activity types are home -> other -> work -> other -> home\n",
    "\n",
    "\n",
    "# Activity information\n",
    "location_list = np.array([[37.750460, -122.429491],\n",
    "                          [37.944496, -122.351648],\n",
    "                          [37.856912, -122.288567],\n",
    "                          [37.754701, -122.188187],\n",
    "                          [37.750460, -122.429491]])\n",
    "\n",
    "start_time_list = np.array([[7.0], \n",
    "                            [8.4], \n",
    "                            [12.5], \n",
    "                            [16.0], \n",
    "                            [18.0]])\n",
    "\n",
    "duration_list = np.array([[1.4], \n",
    "                          [4.1], \n",
    "                          [5.5], \n",
    "                          [2.0], \n",
    "                          [12.0]])\n",
    "\n",
    "activity_type_list = np.array([[1, 0, 0],\n",
    "                               [0, 0, 1],\n",
    "                               [0, 1, 0],\n",
    "                               [0, 0, 1],\n",
    "                               [1, 0, 0]])\n",
    "\n",
    "end_of_day_list = np.array([[0],\n",
    "                            [0],\n",
    "                            [0],\n",
    "                            [0],\n",
    "                            [1]])\n",
    "\n",
    "activity_information = np.hstack((location_list, \n",
    "                                  start_time_list, \n",
    "                                  duration_list, \n",
    "                                  activity_type_list, \n",
    "                                  end_of_day_list))\n",
    "activity_information = activity_information[np.newaxis, :]\n",
    "\n",
    "# Contextual variables\n",
    "dayOfWeek_list = np.array([1])\n",
    "home_location_list = np.array([37.750460, -122.429491])\n",
    "work_location_list = np.array([37.856912, -122.288567])\n",
    "\n",
    "contextual_variables = np.hstack((np.array([dayOfWeek_list] * 5),\n",
    "                                  np.array([home_location_list] * 5),\n",
    "                                  np.array([work_location_list] * 5)))\n",
    "contextual_variables = contextual_variables[np.newaxis, :]\n",
    "                         \n",
    "# Initilization for LSTM model\n",
    "X_init = np.zeros((1, pred_x_dim))\n"
   ]
  },
  {
   "cell_type": "markdown",
   "metadata": {},
   "source": [
    "# Normalize Data"
   ]
  },
  {
   "cell_type": "code",
   "execution_count": 4,
   "metadata": {
    "collapsed": false
   },
   "outputs": [],
   "source": [
    "# Center latitude and longitude\n",
    "lat_mean = np.mean(activity_information[:, :, 0])\n",
    "lon_mean = np.mean(activity_information[:, :, 1])\n",
    "activity_information[:, :, 0] -= lat_mean\n",
    "activity_information[:, :, 1] -= lon_mean\n",
    "\n",
    "contextual_variables[:, :, 1] -= lat_mean\n",
    "contextual_variables[:, :, 3] -= lat_mean\n",
    "contextual_variables[:, :, 2] -= lon_mean\n",
    "contextual_variables[:, :, 4] -= lon_mean\n",
    "\n",
    "\n",
    "# Normalize latitude and longitude to -1~1\n",
    "# Normalize starting time and duration to 0~1\n",
    "lat_max = np.max(np.abs(activity_information[:, :, 0]))\n",
    "lon_max = np.max(np.abs(activity_information[:, :, 1]))\n",
    "\n",
    "activity_information /= np.array([lat_max, \n",
    "                                  lon_max,\n",
    "                                  24.,\n",
    "                                  24.,\n",
    "                                  1.,\n",
    "                                  1.,\n",
    "                                  1.,\n",
    "                                  1.])\n",
    "\n",
    "contextual_variables /= np.array([1, \n",
    "                                  lat_max, \n",
    "                                  lon_max,\n",
    "                                  lat_max, \n",
    "                                  lon_max])"
   ]
  },
  {
   "cell_type": "markdown",
   "metadata": {},
   "source": [
    "# Training"
   ]
  },
  {
   "cell_type": "code",
   "execution_count": 5,
   "metadata": {
    "collapsed": false
   },
   "outputs": [
    {
     "name": "stdout",
     "output_type": "stream",
     "text": [
      "Epoch: 0 Loss: 0.023646692276\n",
      "Epoch: 1000 Loss: -42.8392385841\n",
      "Epoch: 2000 Loss: -56.6754158497\n",
      "Epoch: 3000 Loss: -64.2825565395\n",
      "Epoch: 4000 Loss: -58.9427371559\n"
     ]
    }
   ],
   "source": [
    "config = tf.ConfigProto(allow_soft_placement = True)\n",
    "sess = tf.Session(config = config)\n",
    "sess.run(tf.global_variables_initializer())\n",
    "\n",
    "location_sd_bias = 0.0\n",
    "time_sd_bias = 0.0\n",
    "pi_bias = 0.0\n",
    "\n",
    "lstm_DM.train(X_init=X_init, \n",
    "              X_input_seq=contextual_variables,\n",
    "              y=activity_information,\n",
    "              epochs=5000,\n",
    "              sess=sess,\n",
    "              start_time_list=[start_time_list[0]/24.] ,\n",
    "              per=1000,\n",
    "              location_sd_bias=location_sd_bias,\n",
    "              time_sd_bias=time_sd_bias,\n",
    "              pi_bias=pi_bias)\n",
    "\n"
   ]
  },
  {
   "cell_type": "markdown",
   "metadata": {},
   "source": [
    "# Generate Sequences"
   ]
  },
  {
   "cell_type": "code",
   "execution_count": 6,
   "metadata": {
    "collapsed": false
   },
   "outputs": [],
   "source": [
    "gen_seq, \\\n",
    "gen_coef, \\\n",
    "gen_states, \\\n",
    "gen_mixture_coef = lstm_DM.generate_sequence_coefficients(sess=sess,\n",
    "                                                          X_init=X_init,\n",
    "                                                          X_input_seq=contextual_variables,\n",
    "                                                          start_time_list=[start_time_list[0]/24.],\n",
    "                                                          n=200)\n"
   ]
  },
  {
   "cell_type": "markdown",
   "metadata": {},
   "source": [
    "# Plot Sequences"
   ]
  },
  {
   "cell_type": "code",
   "execution_count": 7,
   "metadata": {
    "collapsed": true
   },
   "outputs": [],
   "source": [
    "import matplotlib.pyplot as plt\n",
    "\n",
    "%matplotlib inline"
   ]
  },
  {
   "cell_type": "code",
   "execution_count": 8,
   "metadata": {
    "collapsed": false
   },
   "outputs": [],
   "source": [
    "# Scale data back \n",
    "activity_information[:, :, 0] *= lat_max\n",
    "activity_information[:, :, 1] *= lon_max\n",
    "activity_information[:, :, 0] += lat_mean\n",
    "activity_information[:, :, 1] += lon_mean\n",
    "activity_information[:, :, 2] *= 24.\n",
    "activity_information[:, :, 3] *= 24.\n",
    "\n",
    "gen_seq[:, :, 0] *= lat_max\n",
    "gen_seq[:, :, 1] *= lon_max\n",
    "gen_seq[:, :, 0] += lat_mean\n",
    "gen_seq[:, :, 1] += lon_mean\n",
    "gen_seq[:, :, 2] *= 24\n",
    "gen_seq[:, :, 3] *= 24\n"
   ]
  },
  {
   "cell_type": "code",
   "execution_count": 9,
   "metadata": {
    "collapsed": false
   },
   "outputs": [
    {
     "data": {
      "text/plain": [
       "<matplotlib.text.Text at 0x11a7623d0>"
      ]
     },
     "execution_count": 9,
     "metadata": {},
     "output_type": "execute_result"
    },
    {
     "data": {
      "image/png": "[encoded data removed]",
      "text/plain": [
       "<matplotlib.figure.Figure at 0x11a7271d0>"
      ]
     },
     "metadata": {},
     "output_type": "display_data"
    }
   ],
   "source": [
    "plt.figure()\n",
    "\n",
    "\n",
    "for i in xrange(200):\n",
    "    plt.plot(gen_seq[i][:,1], gen_seq[i][:,0], 'b.', alpha =0.3)\n",
    "\n",
    "plt.plot(activity_information[0][:,1], activity_information[0][:,0], 'ro', lw=3)\n",
    "\n",
    "plt.xlabel('Longitude')\n",
    "plt.ylabel('Latitude')\n"
   ]
  },
  {
   "cell_type": "code",
   "execution_count": 10,
   "metadata": {
    "collapsed": false
   },
   "outputs": [
    {
     "data": {
      "text/plain": [
       "(0, 24)"
      ]
     },
     "execution_count": 10,
     "metadata": {},
     "output_type": "execute_result"
    },
    {
     "data": {
      "image/png": "[encoded data removed]",
      "text/plain": [
       "<matplotlib.figure.Figure at 0x11ac7d3d0>"
      ]
     },
     "metadata": {},
     "output_type": "display_data"
    }
   ],
   "source": [
    "plt.figure()\n",
    "\n",
    "for i in xrange(200):\n",
    "    plt.plot(gen_seq[i][:,2], gen_seq[i][:,3], 'b.', alpha =0.3)\n",
    "\n",
    "plt.plot(activity_information[0][:,2], activity_information[0][:,3], 'ro', lw=3)\n",
    "\n",
    "\n",
    "plt.xlabel('Starting Time')\n",
    "plt.ylabel('Duration')\n",
    "plt.xlim((0, 24))\n",
    "plt.ylim((0, 24))\n"
   ]
  }
 ],
 "metadata": {
  "kernelspec": {
   "display_name": "tf12_py2",
   "language": "python",
   "name": "tf12_py2"
  },
  "language_info": {
   "codemirror_mode": {
    "name": "ipython",
    "version": 2
   },
   "file_extension": ".py",
   "mimetype": "text/x-python",
   "name": "python",
   "nbconvert_exporter": "python",
   "pygments_lexer": "ipython2",
   "version": "2.7.13"
  }
 },
 "nbformat": 4,
 "nbformat_minor": 1
}
